{
 "cells": [
  {
   "cell_type": "code",
   "execution_count": null,
   "metadata": {},
   "outputs": [],
   "source": [
    "import boto3\n",
    "from botocore.exceptions import NoCredentialsError, ClientError\n",
    "\n",
    "try:\n",
    "    # Boto3 code that may raise exceptions\n",
    "    s3 = boto3.client('s3')\n",
    "    response = s3.list_buckets()\n",
    "    \n",
    "    # Process the response or perform other operations\n",
    "    print(response)\n",
    "\n",
    "except NoCredentialsError:\n",
    "    print(\"AWS credentials not found. Please configure your credentials.\")\n",
    "\n",
    "except ClientError as e:\n",
    "    if e.response['Error']['Code'] == 'NoSuchBucket':\n",
    "        print(\"The specified bucket does not exist.\")\n",
    "    else:\n",
    "        print(\"An error occurred:\", e)"
   ]
  }
 ],
 "metadata": {
  "language_info": {
   "name": "python"
  }
 },
 "nbformat": 4,
 "nbformat_minor": 2
}
